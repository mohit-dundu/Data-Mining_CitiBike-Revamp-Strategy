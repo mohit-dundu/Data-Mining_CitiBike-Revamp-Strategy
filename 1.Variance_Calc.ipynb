{
 "cells": [
  {
   "cell_type": "code",
   "execution_count": 1,
   "metadata": {},
   "outputs": [],
   "source": [
    "import numpy as np\n",
    "import pandas as pd\n",
    "from matplotlib import pyplot as plt"
   ]
  },
  {
   "cell_type": "code",
   "execution_count": 2,
   "metadata": {},
   "outputs": [],
   "source": [
    "file = r'D:\\MS_Courses\\3.Fall\\Mining\\Project\\FINAL DATASET\\2019\\201901-citibike-tripdata.csv'\n",
    "df = pd.read_csv(file)"
   ]
  },
  {
   "cell_type": "code",
   "execution_count": 3,
   "metadata": {},
   "outputs": [],
   "source": [
    "df['Start Date'] = pd.to_datetime(df['starttime']).dt.date\n",
    "df['Start Time'] = pd.to_datetime(df['starttime']).dt.time\n",
    "\n",
    "df['End Date'] = pd.to_datetime(df['stoptime']).dt.date\n",
    "df['End Time'] = pd.to_datetime(df['stoptime']).dt.time"
   ]
  },
  {
   "cell_type": "code",
   "execution_count": 4,
   "metadata": {},
   "outputs": [],
   "source": [
    "file_name = r'D:\\MS_Courses\\3.Fall\\Mining\\Project\\FINAL DATASET\\PROC.csv'\n",
    "df.to_csv(file_name)"
   ]
  },
  {
   "cell_type": "code",
   "execution_count": 5,
   "metadata": {},
   "outputs": [],
   "source": [
    "file_name = r'D:\\MS_Courses\\3.Fall\\Mining\\Project\\FINAL DATASET\\PROC.csv'\n",
    "#cust_file_name = r\"D:\\MS_Courses\\3.Fall\\Mining\\Project\\FINAL DATASET\\Cusotmer_Data.csv\"\n",
    "df = pd.read_csv(file_name)"
   ]
  },
  {
   "cell_type": "code",
   "execution_count": 6,
   "metadata": {},
   "outputs": [],
   "source": [
    "# Extracting Hour\n",
    "\n",
    "df['Start Hour'] = pd.to_datetime(df['Start Time']).dt.hour\n",
    "    \n",
    "\n",
    "df['End Hour'] = pd.to_datetime(df['End Time']).dt.hour"
   ]
  },
  {
   "cell_type": "code",
   "execution_count": 7,
   "metadata": {},
   "outputs": [],
   "source": [
    "cust_out_file_name = r'D:\\MS_Courses\\3.Fall\\Mining\\Project\\FINAL DATASET\\All_Processed_Hour-NEW.csv'\n",
    "df.to_csv(cust_out_file_name)"
   ]
  },
  {
   "cell_type": "code",
   "execution_count": 8,
   "metadata": {},
   "outputs": [
    {
     "name": "stdout",
     "output_type": "stream",
     "text": [
      "<class 'pandas.core.frame.DataFrame'>\n",
      "RangeIndex: 967287 entries, 0 to 967286\n",
      "Data columns (total 22 columns):\n",
      " #   Column                   Non-Null Count   Dtype  \n",
      "---  ------                   --------------   -----  \n",
      " 0   Unnamed: 0               967287 non-null  int64  \n",
      " 1   tripduration             967287 non-null  int64  \n",
      " 2   starttime                967287 non-null  object \n",
      " 3   stoptime                 967287 non-null  object \n",
      " 4   start station id         967269 non-null  float64\n",
      " 5   start station name       967269 non-null  object \n",
      " 6   start station latitude   967287 non-null  float64\n",
      " 7   start station longitude  967287 non-null  float64\n",
      " 8   end station id           967269 non-null  float64\n",
      " 9   end station name         967269 non-null  object \n",
      " 10  end station latitude     967287 non-null  float64\n",
      " 11  end station longitude    967287 non-null  float64\n",
      " 12  bikeid                   967287 non-null  int64  \n",
      " 13  usertype                 967287 non-null  object \n",
      " 14  birth year               967287 non-null  int64  \n",
      " 15  gender                   967287 non-null  int64  \n",
      " 16  Start Date               967287 non-null  object \n",
      " 17  Start Time               967287 non-null  object \n",
      " 18  End Date                 967287 non-null  object \n",
      " 19  End Time                 967287 non-null  object \n",
      " 20  Start Hour               967287 non-null  int64  \n",
      " 21  End Hour                 967287 non-null  int64  \n",
      "dtypes: float64(6), int64(7), object(9)\n",
      "memory usage: 162.4+ MB\n"
     ]
    }
   ],
   "source": [
    "df.info()"
   ]
  },
  {
   "cell_type": "code",
   "execution_count": 9,
   "metadata": {},
   "outputs": [],
   "source": [
    "import pandas as pd\n",
    "cust_out_file_name = r'D:\\MS_Courses\\3.Fall\\Mining\\Project\\FINAL DATASET\\All_Processed_Hour-NEW.csv'\n",
    "df = pd.read_csv(cust_out_file_name)\n",
    "df['usertype'].replace(['Customer', 'Subscriber'],\n",
    "                        [0, 1], inplace=True)\n",
    "df.to_csv(cust_out_file_name)"
   ]
  },
  {
   "cell_type": "code",
   "execution_count": 10,
   "metadata": {},
   "outputs": [
    {
     "name": "stdout",
     "output_type": "stream",
     "text": [
      "{0: 22.318181818181817, 1: 17.190697674418605, 2: 12.134831460674157, 3: 17.38372093023256, 4: 36.41379310344828, 5: 89.61797752808988, 6: 90.73431734317343, 7: 103.63967611336032, 8: 84.66698292220114, 9: 44.616778523489934, 10: 19.620982986767487, 11: 13.796271186440679, 12: 12.844330729868032, 13: 11.735602704593145, 14: 11.678305924757828, 15: 12.797902764537655, 16: 17.315703380588875, 17: 33.036271309394266, 18: 38.218735788995, 19: 33.080712166172106, 20: 25.03728813559322, 21: 23.644382544103994, 22: 22.14909090909091, 23: 19.463587921847246}\n"
     ]
    }
   ],
   "source": [
    "ratios={}\n",
    "for i in range(0,24):\n",
    "    ratios[i]=(len(df[(df['usertype']==1) & (df['Start Hour']==i)])/len(df[(df['usertype']==0) & (df['Start Hour']==i)]))\n",
    "print(ratios)\n",
    "#plt.bar(rartios.keys(), ratios.values(), width, color='g')"
   ]
  },
  {
   "cell_type": "code",
   "execution_count": 27,
   "metadata": {},
   "outputs": [
    {
     "data": {
      "image/png": "[encoded data removed]",
      "text/plain": [
       "<Figure size 720x360 with 1 Axes>"
      ]
     },
     "metadata": {
      "needs_background": "light"
     },
     "output_type": "display_data"
    }
   ],
   "source": [
    "hour = list(ratios.keys())\n",
    "ratio = list(ratios.values())\n",
    "#plt.bar(ratios.keys(), ratios.values(),color='g')\n",
    "fig = plt.figure(figsize = (10, 5))\n",
    "plt.bar(hour, ratio,width = 0.4,color='g')\n",
    " \n",
    "plt.xlabel(\"Time of Day\")\n",
    "plt.ylabel(\"Ratio\")\n",
    "plt.show()"
   ]
  },
  {
   "cell_type": "code",
   "execution_count": 12,
   "metadata": {},
   "outputs": [],
   "source": [
    "################### VARIANCES ###################\n",
    "# FIND RATIO FOR EACH HOUR ON EACH DAY OF THE MONTH\n",
    "# CALCULATE VARIANCE FOR EACH OF THESE HOURS FOR ALL THE DAYS\n",
    "cust_out_file_name = r'D:\\MS_Courses\\3.Fall\\Mining\\Project\\FINAL DATASET\\All_Processed_Hour-NEW.csv'\n",
    "df = pd.read_csv(cust_out_file_name)\n",
    "dates = df['Start Date'].unique()\n",
    "var_ratio = {}\n",
    "ratio_hour = {}\n",
    "nr = []\n",
    "dr = []\n",
    "# i = 1\n",
    "for i in range(24):\n",
    "    lst = []\n",
    "    for j in dates:\n",
    "        try:\n",
    "            rat = (len(df[(df['usertype']==1) & (df['Start Hour']==i) & (df['Start Date']==j)])/\n",
    "                    len(df[(df['usertype']==0) & (df['Start Hour']==i) & (df['Start Date']==j)]))\n",
    "        except ZeroDivisionError:\n",
    "            rat = 0\n",
    "        lst.append(rat)\n",
    "    ratio_hour[i] = lst"
   ]
  },
  {
   "cell_type": "code",
   "execution_count": 13,
   "metadata": {
    "scrolled": true
   },
   "outputs": [
    {
     "name": "stdout",
     "output_type": "stream",
     "text": [
      "Variance is:\n",
      "{0: '103.291', 23: '1047.079', 11: '113.420', 20: '133.553', 16: '138.183', 21: '156.801', 10: '192.187', 5: '19505.010', 2: '267.022', 1: '279.027', 22: '311.129', 8: '3368.250', 6: '3397.273', 17: '444.652', 18: '467.021', 3: '468.326', 19: '533.769', 13: '61.958', 7: '6448.237', 12: '75.785', 14: '80.527', 4: '804.332', 15: '93.483', 9: '937.095'}\n",
      "***********************************************************************\n",
      "Std Dev is:\n",
      "{0: '10.163', 11: '10.650', 20: '11.557', 16: '11.755', 21: '12.522', 10: '13.863', 5: '139.660', 2: '16.341', 1: '16.704', 22: '17.639', 17: '21.087', 18: '21.611', 3: '21.641', 19: '23.103', 4: '28.361', 9: '30.612', 23: '32.359', 8: '58.037', 6: '58.286', 13: '7.871', 12: '8.705', 14: '8.974', 7: '80.301', 15: '9.669'}\n"
     ]
    }
   ],
   "source": [
    "std_dev = {}\n",
    "for i in range(24):\n",
    "    df1 = pd.DataFrame(ratio_hour[i])\n",
    "    df1.iloc[0:0]\n",
    "    \n",
    "    #print(df1)\n",
    "    var = df1.var()\n",
    "    std = df1.std()\n",
    "    var_ratio[i] = \"%.3f\" % var\n",
    "    std_dev[i] = \"%.3f\" % std\n",
    "    #print(var)\n",
    "    #var_ratio[i] = float(var)\n",
    "    \n",
    "    #print(\"%.2f\" % a)\n",
    "    #std_dev[i] = float(std)\n",
    "print(\"Variance is:\")\n",
    "var_ratio_sorted = {k: v for k, v in sorted(var_ratio.items(), key=lambda item: item[1])}\n",
    "#print(var_ratio_sorted)\n",
    "print(var_ratio)\n",
    "print(\"***********************************************************************\")\n",
    "print(\"Std Dev is:\")\n",
    "std_dev_sorted = {k: v for k, v in sorted(std_dev.items(), key=lambda item: item[1])}\n",
    "print(std_dev)\n",
    "# print(std_dev_sorted)"
   ]
  },
  {
   "cell_type": "code",
   "execution_count": 28,
   "metadata": {},
   "outputs": [
    {
     "name": "stdout",
     "output_type": "stream",
     "text": [
      "Variance is:\n",
      "{0: '103.291', 1: '279.027', 2: '267.022', 3: '468.326', 4: '804.332', 5: '19505.010', 6: '3397.273', 7: '6448.237', 8: '3368.250', 9: '937.095', 10: '192.187', 11: '113.420', 12: '75.785', 13: '61.958', 14: '80.527', 15: '93.483', 16: '138.183', 17: '444.652', 18: '467.021', 19: '533.769', 20: '133.553', 21: '156.801', 22: '311.129', 23: '1047.079'}\n",
      "***********************************************************************\n",
      "Std Dev is:\n",
      "{0: '10.163', 1: '16.704', 2: '16.341', 3: '21.641', 4: '28.361', 5: '139.660', 6: '58.286', 7: '80.301', 8: '58.037', 9: '30.612', 10: '13.863', 11: '10.650', 12: '8.705', 13: '7.871', 14: '8.974', 15: '9.669', 16: '11.755', 17: '21.087', 18: '21.611', 19: '23.103', 20: '11.557', 21: '12.522', 22: '17.639', 23: '32.359'}\n"
     ]
    }
   ],
   "source": [
    "print(\"Variance is:\")\n",
    "# var_ratio_sorted = {k: v for k, v in sorted(var_ratio.items(), key=lambda item: item[1])}\n",
    "#print(var_ratio_sorted)\n",
    "print(var_ratio)\n",
    "print(\"***********************************************************************\")\n",
    "print(\"Std Dev is:\")\n",
    "# std_dev_sorted = {k: v for k, v in sorted(std_dev.items(), key=lambda item: item[1])}\n",
    "print(std_dev)\n",
    "# print(std_dev_sorted)"
   ]
  },
  {
   "cell_type": "code",
   "execution_count": 29,
   "metadata": {},
   "outputs": [],
   "source": [
    "a = list(var_ratio.keys())\n",
    "b = list(var_ratio.values())"
   ]
  },
  {
   "cell_type": "code",
   "execution_count": 30,
   "metadata": {},
   "outputs": [
    {
     "name": "stdout",
     "output_type": "stream",
     "text": [
      "[0, 1, 2, 3, 4, 5, 6, 7, 8, 9, 10, 11, 12, 13, 14, 15, 16, 17, 18, 19, 20, 21, 22, 23] ['103.291', '279.027', '267.022', '468.326', '804.332', '19505.010', '3397.273', '6448.237', '3368.250', '937.095', '192.187', '113.420', '75.785', '61.958', '80.527', '93.483', '138.183', '444.652', '467.021', '533.769', '133.553', '156.801', '311.129', '1047.079']\n"
     ]
    }
   ],
   "source": [
    "print(a,b)"
   ]
  },
  {
   "cell_type": "code",
   "execution_count": 34,
   "metadata": {},
   "outputs": [
    {
     "data": {
      "image/png": "[encoded data removed]",
      "text/plain": [
       "<Figure size 720x360 with 1 Axes>"
      ]
     },
     "metadata": {
      "needs_background": "light"
     },
     "output_type": "display_data"
    }
   ],
   "source": [
    "fig = plt.figure(figsize = (10, 5))\n",
    "plt.bar(a, b,width = 0.4,color='g')\n",
    " \n",
    "plt.xlabel(\"Time of Day\")\n",
    "plt.ylabel(\"Ratio\")\n",
    "plt.show()"
   ]
  },
  {
   "cell_type": "code",
   "execution_count": 37,
   "metadata": {},
   "outputs": [],
   "source": [
    "df = df[0:0]\n",
    "df = pd. DataFrame({'Hour': a, 'Variance': b})\n",
    "variance_file = r'D:\\MS_Courses\\3.Fall\\Mining\\Project\\FINAL DATASET\\variance.csv'\n",
    "df.to_csv(variance_file)"
   ]
  },
  {
   "cell_type": "code",
   "execution_count": null,
   "metadata": {},
   "outputs": [],
   "source": []
  }
 ],
 "metadata": {
  "kernelspec": {
   "display_name": "myenv",
   "language": "python",
   "name": "myenv"
  },
  "language_info": {
   "codemirror_mode": {
    "name": "ipython",
    "version": 3
   },
   "file_extension": ".py",
   "mimetype": "text/x-python",
   "name": "python",
   "nbconvert_exporter": "python",
   "pygments_lexer": "ipython3",
   "version": "3.8.5"
  }
 },
 "nbformat": 4,
 "nbformat_minor": 4
}
