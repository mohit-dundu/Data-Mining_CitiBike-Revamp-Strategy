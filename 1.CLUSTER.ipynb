{
 "cells": [
  {
   "cell_type": "code",
   "execution_count": 1,
   "metadata": {},
   "outputs": [],
   "source": [
    "import numpy as np\n",
    "import pandas as pd\n",
    "from sklearn.cluster import KMeans\n",
    "from scipy.spatial.distance import cdist, pdist\n",
    "from matplotlib import pyplot as plt"
   ]
  },
  {
   "cell_type": "code",
   "execution_count": 2,
   "metadata": {},
   "outputs": [],
   "source": [
    "from mpl_toolkits.basemap import Basemap"
   ]
  },
  {
   "cell_type": "code",
   "execution_count": 3,
   "metadata": {},
   "outputs": [],
   "source": [
    "file = r\"D:\\MS_Courses\\3.Fall\\Mining\\Project\\FINAL DATASET\\FINAL_CLUSTER.csv\"\n",
    "#file = r'D:\\MS_Courses\\3.Fall\\Mining\\Project\\FINAL DATASET\\REGRESSION.csv'\n",
    "df1_loc = pd.read_csv(file)"
   ]
  },
  {
   "cell_type": "code",
   "execution_count": 4,
   "metadata": {},
   "outputs": [
    {
     "data": {
      "text/html": [
       "<div>\n",
       "<style scoped>\n",
       "    .dataframe tbody tr th:only-of-type {\n",
       "        vertical-align: middle;\n",
       "    }\n",
       "\n",
       "    .dataframe tbody tr th {\n",
       "        vertical-align: top;\n",
       "    }\n",
       "\n",
       "    .dataframe thead th {\n",
       "        text-align: right;\n",
       "    }\n",
       "</style>\n",
       "<table border=\"1\" class=\"dataframe\">\n",
       "  <thead>\n",
       "    <tr style=\"text-align: right;\">\n",
       "      <th></th>\n",
       "      <th>Unnamed: 0</th>\n",
       "      <th>Unnamed: 0.1</th>\n",
       "      <th>Unnamed: 0.1.1</th>\n",
       "      <th>Unnamed: 0.1.1.1</th>\n",
       "      <th>Unnamed: 0.1.1.1.1</th>\n",
       "      <th>Unnamed: 0.1.1.1.1.1</th>\n",
       "      <th>tripduration</th>\n",
       "      <th>starttime</th>\n",
       "      <th>stoptime</th>\n",
       "      <th>start station id</th>\n",
       "      <th>...</th>\n",
       "      <th>usertype</th>\n",
       "      <th>birth year</th>\n",
       "      <th>gender</th>\n",
       "      <th>Start Date</th>\n",
       "      <th>Start Time</th>\n",
       "      <th>End Date</th>\n",
       "      <th>End Time</th>\n",
       "      <th>Start Hour</th>\n",
       "      <th>End Hour</th>\n",
       "      <th>cluster_label</th>\n",
       "    </tr>\n",
       "  </thead>\n",
       "  <tbody>\n",
       "    <tr>\n",
       "      <th>0</th>\n",
       "      <td>0</td>\n",
       "      <td>0</td>\n",
       "      <td>0</td>\n",
       "      <td>0</td>\n",
       "      <td>0</td>\n",
       "      <td>0</td>\n",
       "      <td>320</td>\n",
       "      <td>2019-01-01 00:01:47.4010</td>\n",
       "      <td>2019-01-01 00:07:07.5810</td>\n",
       "      <td>3160.0</td>\n",
       "      <td>...</td>\n",
       "      <td>1</td>\n",
       "      <td>1971</td>\n",
       "      <td>1</td>\n",
       "      <td>2019-01-01</td>\n",
       "      <td>00:01:47.401000</td>\n",
       "      <td>2019-01-01</td>\n",
       "      <td>00:07:07.581000</td>\n",
       "      <td>0</td>\n",
       "      <td>0</td>\n",
       "      <td>1</td>\n",
       "    </tr>\n",
       "    <tr>\n",
       "      <th>1</th>\n",
       "      <td>1</td>\n",
       "      <td>1</td>\n",
       "      <td>1</td>\n",
       "      <td>1</td>\n",
       "      <td>1</td>\n",
       "      <td>1</td>\n",
       "      <td>316</td>\n",
       "      <td>2019-01-01 00:04:43.7360</td>\n",
       "      <td>2019-01-01 00:10:00.6080</td>\n",
       "      <td>519.0</td>\n",
       "      <td>...</td>\n",
       "      <td>1</td>\n",
       "      <td>1964</td>\n",
       "      <td>1</td>\n",
       "      <td>2019-01-01</td>\n",
       "      <td>00:04:43.736000</td>\n",
       "      <td>2019-01-01</td>\n",
       "      <td>00:10:00.608000</td>\n",
       "      <td>0</td>\n",
       "      <td>0</td>\n",
       "      <td>1</td>\n",
       "    </tr>\n",
       "    <tr>\n",
       "      <th>2</th>\n",
       "      <td>2</td>\n",
       "      <td>2</td>\n",
       "      <td>2</td>\n",
       "      <td>2</td>\n",
       "      <td>2</td>\n",
       "      <td>2</td>\n",
       "      <td>591</td>\n",
       "      <td>2019-01-01 00:06:03.9970</td>\n",
       "      <td>2019-01-01 00:15:55.4380</td>\n",
       "      <td>3171.0</td>\n",
       "      <td>...</td>\n",
       "      <td>1</td>\n",
       "      <td>1987</td>\n",
       "      <td>1</td>\n",
       "      <td>2019-01-01</td>\n",
       "      <td>00:06:03.997000</td>\n",
       "      <td>2019-01-01</td>\n",
       "      <td>00:15:55.438000</td>\n",
       "      <td>0</td>\n",
       "      <td>0</td>\n",
       "      <td>1</td>\n",
       "    </tr>\n",
       "    <tr>\n",
       "      <th>3</th>\n",
       "      <td>3</td>\n",
       "      <td>3</td>\n",
       "      <td>3</td>\n",
       "      <td>3</td>\n",
       "      <td>3</td>\n",
       "      <td>3</td>\n",
       "      <td>2719</td>\n",
       "      <td>2019-01-01 00:07:03.5450</td>\n",
       "      <td>2019-01-01 00:52:22.6500</td>\n",
       "      <td>504.0</td>\n",
       "      <td>...</td>\n",
       "      <td>1</td>\n",
       "      <td>1990</td>\n",
       "      <td>1</td>\n",
       "      <td>2019-01-01</td>\n",
       "      <td>00:07:03.545000</td>\n",
       "      <td>2019-01-01</td>\n",
       "      <td>00:52:22.650000</td>\n",
       "      <td>0</td>\n",
       "      <td>0</td>\n",
       "      <td>0</td>\n",
       "    </tr>\n",
       "    <tr>\n",
       "      <th>4</th>\n",
       "      <td>4</td>\n",
       "      <td>4</td>\n",
       "      <td>4</td>\n",
       "      <td>4</td>\n",
       "      <td>4</td>\n",
       "      <td>4</td>\n",
       "      <td>303</td>\n",
       "      <td>2019-01-01 00:07:35.9450</td>\n",
       "      <td>2019-01-01 00:12:39.5020</td>\n",
       "      <td>229.0</td>\n",
       "      <td>...</td>\n",
       "      <td>1</td>\n",
       "      <td>1979</td>\n",
       "      <td>1</td>\n",
       "      <td>2019-01-01</td>\n",
       "      <td>00:07:35.945000</td>\n",
       "      <td>2019-01-01</td>\n",
       "      <td>00:12:39.502000</td>\n",
       "      <td>0</td>\n",
       "      <td>0</td>\n",
       "      <td>0</td>\n",
       "    </tr>\n",
       "  </tbody>\n",
       "</table>\n",
       "<p>5 rows × 28 columns</p>\n",
       "</div>"
      ],
      "text/plain": [
       "   Unnamed: 0  Unnamed: 0.1  Unnamed: 0.1.1  Unnamed: 0.1.1.1  \\\n",
       "0           0             0               0                 0   \n",
       "1           1             1               1                 1   \n",
       "2           2             2               2                 2   \n",
       "3           3             3               3                 3   \n",
       "4           4             4               4                 4   \n",
       "\n",
       "   Unnamed: 0.1.1.1.1  Unnamed: 0.1.1.1.1.1  tripduration  \\\n",
       "0                   0                     0           320   \n",
       "1                   1                     1           316   \n",
       "2                   2                     2           591   \n",
       "3                   3                     3          2719   \n",
       "4                   4                     4           303   \n",
       "\n",
       "                  starttime                  stoptime  start station id  ...  \\\n",
       "0  2019-01-01 00:01:47.4010  2019-01-01 00:07:07.5810            3160.0  ...   \n",
       "1  2019-01-01 00:04:43.7360  2019-01-01 00:10:00.6080             519.0  ...   \n",
       "2  2019-01-01 00:06:03.9970  2019-01-01 00:15:55.4380            3171.0  ...   \n",
       "3  2019-01-01 00:07:03.5450  2019-01-01 00:52:22.6500             504.0  ...   \n",
       "4  2019-01-01 00:07:35.9450  2019-01-01 00:12:39.5020             229.0  ...   \n",
       "\n",
       "  usertype  birth year  gender  Start Date       Start Time    End Date  \\\n",
       "0        1        1971       1  2019-01-01  00:01:47.401000  2019-01-01   \n",
       "1        1        1964       1  2019-01-01  00:04:43.736000  2019-01-01   \n",
       "2        1        1987       1  2019-01-01  00:06:03.997000  2019-01-01   \n",
       "3        1        1990       1  2019-01-01  00:07:03.545000  2019-01-01   \n",
       "4        1        1979       1  2019-01-01  00:07:35.945000  2019-01-01   \n",
       "\n",
       "          End Time  Start Hour  End Hour  cluster_label  \n",
       "0  00:07:07.581000           0         0              1  \n",
       "1  00:10:00.608000           0         0              1  \n",
       "2  00:15:55.438000           0         0              1  \n",
       "3  00:52:22.650000           0         0              0  \n",
       "4  00:12:39.502000           0         0              0  \n",
       "\n",
       "[5 rows x 28 columns]"
      ]
     },
     "execution_count": 4,
     "metadata": {},
     "output_type": "execute_result"
    }
   ],
   "source": [
    "df1_loc.head()"
   ]
  },
  {
   "cell_type": "code",
   "execution_count": 5,
   "metadata": {},
   "outputs": [
    {
     "data": {
      "image/png": "[encoded data removed]",
      "text/plain": [
       "<Figure size 432x288 with 1 Axes>"
      ]
     },
     "metadata": {
      "needs_background": "light"
     },
     "output_type": "display_data"
    }
   ],
   "source": [
    "K_clusters = range(1,10)\n",
    "kmeans = [KMeans(n_clusters=i) for i in K_clusters]\n",
    "Y_axis = df1_loc[['start station latitude']]\n",
    "X_axis = df1_loc[['start station longitude']]\n",
    "score = [kmeans[i].fit(Y_axis).score(Y_axis) for i in range(len(kmeans))]\n",
    "# Visualize\n",
    "plt.plot(K_clusters, score)\n",
    "plt.xlabel('Number of Clusters')\n",
    "plt.ylabel('Score')\n",
    "plt.title('Elbow Curve')\n",
    "plt.show()"
   ]
  },
  {
   "cell_type": "code",
   "execution_count": 6,
   "metadata": {},
   "outputs": [
    {
     "name": "stdout",
     "output_type": "stream",
     "text": [
      "<class 'pandas.core.frame.DataFrame'>\n"
     ]
    }
   ],
   "source": [
    "X = df1_loc[['start station latitude', 'start station longitude']]\n",
    "print(type(X))"
   ]
  },
  {
   "cell_type": "code",
   "execution_count": 7,
   "metadata": {},
   "outputs": [
    {
     "data": {
      "text/plain": [
       "KMeans(n_clusters=3)"
      ]
     },
     "execution_count": 7,
     "metadata": {},
     "output_type": "execute_result"
    }
   ],
   "source": [
    "kmeans = KMeans(n_clusters = 3, init ='k-means++')\n",
    "kmeans.fit(X) # Compute k-means clustering."
   ]
  },
  {
   "cell_type": "code",
   "execution_count": 8,
   "metadata": {},
   "outputs": [
    {
     "name": "stdout",
     "output_type": "stream",
     "text": [
      "        start station latitude  start station longitude\n",
      "0                    40.778968               -73.973747\n",
      "1                    40.751873               -73.977706\n",
      "2                    40.785247               -73.976673\n",
      "3                    40.732219               -73.981656\n",
      "4                    40.727434               -73.993790\n",
      "...                        ...                      ...\n",
      "967282               40.668132               -73.973638\n",
      "967283               40.668132               -73.973638\n",
      "967284               40.668132               -73.973638\n",
      "967285               40.668132               -73.973638\n",
      "967286               40.668132               -73.973638\n",
      "\n",
      "[967287 rows x 2 columns]\n"
     ]
    }
   ],
   "source": [
    "print(X)"
   ]
  },
  {
   "cell_type": "code",
   "execution_count": 9,
   "metadata": {},
   "outputs": [
    {
     "name": "stdout",
     "output_type": "stream",
     "text": [
      "        Unnamed: 0  Unnamed: 0.1  Unnamed: 0.1.1  Unnamed: 0.1.1.1  \\\n",
      "0                0             0               0                 0   \n",
      "1                1             1               1                 1   \n",
      "2                2             2               2                 2   \n",
      "3                3             3               3                 3   \n",
      "4                4             4               4                 4   \n",
      "...            ...           ...             ...               ...   \n",
      "967282      967282        967282          967282            967282   \n",
      "967283      967283        967283          967283            967283   \n",
      "967284      967284        967284          967284            967284   \n",
      "967285      967285        967285          967285            967285   \n",
      "967286      967286        967286          967286            967286   \n",
      "\n",
      "        Unnamed: 0.1.1.1.1  Unnamed: 0.1.1.1.1.1  tripduration  \\\n",
      "0                        0                     0           320   \n",
      "1                        1                     1           316   \n",
      "2                        2                     2           591   \n",
      "3                        3                     3          2719   \n",
      "4                        4                     4           303   \n",
      "...                    ...                   ...           ...   \n",
      "967282              967282                967282           291   \n",
      "967283              967283                967283           437   \n",
      "967284              967284                967284           173   \n",
      "967285              967285                967285           244   \n",
      "967286              967286                967286           387   \n",
      "\n",
      "                       starttime                  stoptime  start station id  \\\n",
      "0       2019-01-01 00:01:47.4010  2019-01-01 00:07:07.5810            3160.0   \n",
      "1       2019-01-01 00:04:43.7360  2019-01-01 00:10:00.6080             519.0   \n",
      "2       2019-01-01 00:06:03.9970  2019-01-01 00:15:55.4380            3171.0   \n",
      "3       2019-01-01 00:07:03.5450  2019-01-01 00:52:22.6500             504.0   \n",
      "4       2019-01-01 00:07:35.9450  2019-01-01 00:12:39.5020             229.0   \n",
      "...                          ...                       ...               ...   \n",
      "967282  2019-01-31 17:33:26.4490  2019-01-31 17:38:17.8940            3354.0   \n",
      "967283  2019-01-31 18:57:45.3380  2019-01-31 19:05:02.4970            3354.0   \n",
      "967284  2019-01-31 19:11:41.1930  2019-01-31 19:14:34.3350            3354.0   \n",
      "967285  2019-01-31 20:54:51.1440  2019-01-31 20:58:55.3100            3354.0   \n",
      "967286  2019-01-31 23:38:42.1770  2019-01-31 23:45:09.4520            3354.0   \n",
      "\n",
      "        ... usertype  birth year  gender  Start Date       Start Time  \\\n",
      "0       ...        1        1971       1  2019-01-01  00:01:47.401000   \n",
      "1       ...        1        1964       1  2019-01-01  00:04:43.736000   \n",
      "2       ...        1        1987       1  2019-01-01  00:06:03.997000   \n",
      "3       ...        1        1990       1  2019-01-01  00:07:03.545000   \n",
      "4       ...        1        1979       1  2019-01-01  00:07:35.945000   \n",
      "...     ...      ...         ...     ...         ...              ...   \n",
      "967282  ...        1        1978       2  2019-01-31  17:33:26.449000   \n",
      "967283  ...        1        1976       2  2019-01-31  18:57:45.338000   \n",
      "967284  ...        1        1977       1  2019-01-31  19:11:41.193000   \n",
      "967285  ...        1        1994       1  2019-01-31  20:54:51.144000   \n",
      "967286  ...        1        1979       1  2019-01-31  23:38:42.177000   \n",
      "\n",
      "          End Date         End Time  Start Hour  End Hour  cluster_label  \n",
      "0       2019-01-01  00:07:07.581000           0         0              1  \n",
      "1       2019-01-01  00:10:00.608000           0         0              1  \n",
      "2       2019-01-01  00:15:55.438000           0         0              1  \n",
      "3       2019-01-01  00:52:22.650000           0         0              0  \n",
      "4       2019-01-01  00:12:39.502000           0         0              0  \n",
      "...            ...              ...         ...       ...            ...  \n",
      "967282  2019-01-31  17:38:17.894000          17        17              2  \n",
      "967283  2019-01-31  19:05:02.497000          18        19              2  \n",
      "967284  2019-01-31  19:14:34.335000          19        19              2  \n",
      "967285  2019-01-31  20:58:55.310000          20        20              2  \n",
      "967286  2019-01-31  23:45:09.452000          23        23              2  \n",
      "\n",
      "[967287 rows x 28 columns]\n"
     ]
    }
   ],
   "source": [
    "print(df1_loc)"
   ]
  },
  {
   "cell_type": "code",
   "execution_count": 11,
   "metadata": {},
   "outputs": [
    {
     "name": "stderr",
     "output_type": "stream",
     "text": [
      "<ipython-input-11-c73ab87ef69e>:1: SettingWithCopyWarning: \n",
      "A value is trying to be set on a copy of a slice from a DataFrame.\n",
      "Try using .loc[row_indexer,col_indexer] = value instead\n",
      "\n",
      "See the caveats in the documentation: https://pandas.pydata.org/pandas-docs/stable/user_guide/indexing.html#returning-a-view-versus-a-copy\n",
      "  X['cluster_label'] = kmeans.fit_predict(X)\n",
      "<ipython-input-11-c73ab87ef69e>:5: SettingWithCopyWarning: \n",
      "A value is trying to be set on a copy of a slice from a DataFrame.\n",
      "Try using .loc[row_indexer,col_indexer] = value instead\n",
      "\n",
      "See the caveats in the documentation: https://pandas.pydata.org/pandas-docs/stable/user_guide/indexing.html#returning-a-view-versus-a-copy\n",
      "  X['start station id'] = df1_loc['start station id']\n"
     ]
    }
   ],
   "source": [
    "X['cluster_label'] = kmeans.fit_predict(X)\n",
    "centers = kmeans.cluster_centers_ # Coordinates of cluster centers.\n",
    "labels = kmeans.predict(X) # Labels of each point\n",
    "X.head(10)\n",
    "X['start station id'] = df1_loc['start station id']"
   ]
  },
  {
   "cell_type": "code",
   "execution_count": 12,
   "metadata": {},
   "outputs": [
    {
     "name": "stdout",
     "output_type": "stream",
     "text": [
      "<class 'pandas.core.series.Series'>\n"
     ]
    }
   ],
   "source": [
    "print(type(X['cluster_label']))"
   ]
  },
  {
   "cell_type": "code",
   "execution_count": 13,
   "metadata": {},
   "outputs": [
    {
     "data": {
      "text/plain": [
       "<matplotlib.collections.PathCollection at 0x29c8a72baf0>"
      ]
     },
     "execution_count": 13,
     "metadata": {},
     "output_type": "execute_result"
    },
    {
     "data": {
      "image/png": "[encoded data removed]",
      "text/plain": [
       "<Figure size 432x288 with 2 Axes>"
      ]
     },
     "metadata": {
      "needs_background": "light"
     },
     "output_type": "display_data"
    }
   ],
   "source": [
    "X.plot.scatter(x = 'start station latitude', y = 'start station longitude', c=labels, s=50, cmap='viridis')\n",
    "plt.scatter(centers[:, 0], centers[:, 1], c='black', s=200, alpha=0.5)"
   ]
  },
  {
   "cell_type": "code",
   "execution_count": 15,
   "metadata": {},
   "outputs": [],
   "source": [
    "final_file = r\"D:\\MS_Courses\\3.Fall\\Mining\\Project\\FINAL DATASET\\REGRESSION.csv\"\n",
    "df_final = pd.read_csv(final_file)\n",
    "df_final['cluster_label'] = X['cluster_label']\n",
    "df_final['start station id'] = X['start station id']\n",
    "df_final.to_csv(final_file)"
   ]
  },
  {
   "cell_type": "code",
   "execution_count": null,
   "metadata": {},
   "outputs": [],
   "source": []
  }
 ],
 "metadata": {
  "kernelspec": {
   "display_name": "myenv",
   "language": "python",
   "name": "myenv"
  },
  "language_info": {
   "codemirror_mode": {
    "name": "ipython",
    "version": 3
   },
   "file_extension": ".py",
   "mimetype": "text/x-python",
   "name": "python",
   "nbconvert_exporter": "python",
   "pygments_lexer": "ipython3",
   "version": "3.8.5"
  }
 },
 "nbformat": 4,
 "nbformat_minor": 4
}
